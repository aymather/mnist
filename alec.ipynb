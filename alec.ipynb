{
 "cells": [
  {
   "cell_type": "code",
   "execution_count": 87,
   "metadata": {},
   "outputs": [],
   "source": [
    "import matplotlib.pyplot as plt\n",
    "import tensorflow as tf\n",
    "from tensorflow.keras.regularizers import l2\n",
    "from tensorflow.keras.callbacks import TensorBoard\n",
    "import numpy as np\n",
    "import time"
   ]
  },
  {
   "cell_type": "code",
   "execution_count": 5,
   "metadata": {},
   "outputs": [],
   "source": [
    "mnist = tf.keras.datasets.mnist\n",
    "(x_train, y_train), (x_test, y_test) = mnist.load_data()"
   ]
  },
  {
   "cell_type": "code",
   "execution_count": 13,
   "metadata": {},
   "outputs": [
    {
     "data": {
      "text/plain": [
       "<matplotlib.image.AxesImage at 0x16a486c70>"
      ]
     },
     "execution_count": 13,
     "metadata": {},
     "output_type": "execute_result"
    },
    {
     "data": {
      "image/png": "[encoded data removed]",
      "text/plain": [
       "<Figure size 640x480 with 1 Axes>"
      ]
     },
     "metadata": {},
     "output_type": "display_data"
    }
   ],
   "source": [
    "plt.imshow(x_train[0], cmap=plt.cm.binary)"
   ]
  },
  {
   "cell_type": "code",
   "execution_count": 28,
   "metadata": {},
   "outputs": [
    {
     "name": "stdout",
     "output_type": "stream",
     "text": [
      "Input Shape: (28, 28)\n",
      "Output Shape: (784,)\n",
      "Min Value: 0.0\n",
      "Max Value: 1.0\n"
     ]
    }
   ],
   "source": [
    "image = x_train[0]\n",
    "input_shape = np.shape(image)\n",
    "output_shape = np.shape(image.flatten())\n",
    "min_val = np.min(image)\n",
    "max_val = np.max(image)\n",
    "\n",
    "print(f'Input Shape: ' + str(input_shape))\n",
    "print(f'Output Shape: ' + str(output_shape))\n",
    "print(f'Min Value: ' + str(min_val))\n",
    "print(f'Max Value: ' + str(max_val))"
   ]
  },
  {
   "cell_type": "code",
   "execution_count": 20,
   "metadata": {},
   "outputs": [],
   "source": [
    "x_train, x_test = x_train / 255.0, x_test / 255.0"
   ]
  },
  {
   "cell_type": "code",
   "execution_count": 21,
   "metadata": {},
   "outputs": [
    {
     "data": {
      "text/plain": [
       "array([[[0., 0., 0., ..., 0., 0., 0.],\n",
       "        [0., 0., 0., ..., 0., 0., 0.],\n",
       "        [0., 0., 0., ..., 0., 0., 0.],\n",
       "        ...,\n",
       "        [0., 0., 0., ..., 0., 0., 0.],\n",
       "        [0., 0., 0., ..., 0., 0., 0.],\n",
       "        [0., 0., 0., ..., 0., 0., 0.]],\n",
       "\n",
       "       [[0., 0., 0., ..., 0., 0., 0.],\n",
       "        [0., 0., 0., ..., 0., 0., 0.],\n",
       "        [0., 0., 0., ..., 0., 0., 0.],\n",
       "        ...,\n",
       "        [0., 0., 0., ..., 0., 0., 0.],\n",
       "        [0., 0., 0., ..., 0., 0., 0.],\n",
       "        [0., 0., 0., ..., 0., 0., 0.]],\n",
       "\n",
       "       [[0., 0., 0., ..., 0., 0., 0.],\n",
       "        [0., 0., 0., ..., 0., 0., 0.],\n",
       "        [0., 0., 0., ..., 0., 0., 0.],\n",
       "        ...,\n",
       "        [0., 0., 0., ..., 0., 0., 0.],\n",
       "        [0., 0., 0., ..., 0., 0., 0.],\n",
       "        [0., 0., 0., ..., 0., 0., 0.]],\n",
       "\n",
       "       ...,\n",
       "\n",
       "       [[0., 0., 0., ..., 0., 0., 0.],\n",
       "        [0., 0., 0., ..., 0., 0., 0.],\n",
       "        [0., 0., 0., ..., 0., 0., 0.],\n",
       "        ...,\n",
       "        [0., 0., 0., ..., 0., 0., 0.],\n",
       "        [0., 0., 0., ..., 0., 0., 0.],\n",
       "        [0., 0., 0., ..., 0., 0., 0.]],\n",
       "\n",
       "       [[0., 0., 0., ..., 0., 0., 0.],\n",
       "        [0., 0., 0., ..., 0., 0., 0.],\n",
       "        [0., 0., 0., ..., 0., 0., 0.],\n",
       "        ...,\n",
       "        [0., 0., 0., ..., 0., 0., 0.],\n",
       "        [0., 0., 0., ..., 0., 0., 0.],\n",
       "        [0., 0., 0., ..., 0., 0., 0.]],\n",
       "\n",
       "       [[0., 0., 0., ..., 0., 0., 0.],\n",
       "        [0., 0., 0., ..., 0., 0., 0.],\n",
       "        [0., 0., 0., ..., 0., 0., 0.],\n",
       "        ...,\n",
       "        [0., 0., 0., ..., 0., 0., 0.],\n",
       "        [0., 0., 0., ..., 0., 0., 0.],\n",
       "        [0., 0., 0., ..., 0., 0., 0.]]])"
      ]
     },
     "execution_count": 21,
     "metadata": {},
     "output_type": "execute_result"
    }
   ],
   "source": [
    "x_train"
   ]
  },
  {
   "attachments": {},
   "cell_type": "markdown",
   "metadata": {},
   "source": [
    "# Best Dense Model\n",
    "\n",
    "### Stats\n",
    "- Loss: 0.06887\n",
    "- Acc: 98.31%\n",
    "\n",
    "### Model\n",
    "- Optimizer: Adam\n",
    "- Loss: SparseCategoricalCrossentropy\n",
    "\n",
    "1. Dense, 256 neurons, 20% dropout, relu\n",
    "2. Dense, 256 neurons, 20% dropout, relu\n",
    "3. Dense, 10 neurons"
   ]
  },
  {
   "cell_type": "code",
   "execution_count": null,
   "metadata": {},
   "outputs": [],
   "source": [
    "concept = 'best'\n",
    "neurons = [256]\n",
    "layers = [2]\n",
    "dropout = [0.2]\n",
    "\n",
    "for num_neurons in neurons:\n",
    "    for num_layers in layers:\n",
    "        for num_dropout in dropout:\n",
    "\n",
    "            # Sequential model\n",
    "            model = tf.keras.models.Sequential()\n",
    "\n",
    "            # Start by flattening inputs\n",
    "            model.add(tf.keras.layers.Flatten(input_shape=(28, 28)))\n",
    "            \n",
    "            # Add dense layers\n",
    "            for l in range(num_layers):\n",
    "                model.add(tf.keras.layers.Dense(num_neurons, activation='relu'))\n",
    "                model.add(tf.keras.layers.Dropout(num_dropout))\n",
    "\n",
    "            # Always add a final dense layer with 10 neurons for classification\n",
    "            model.add(tf.keras.layers.Dense(10))\n",
    "\n",
    "            # Tensorboard\n",
    "            log_fullfile = f'./tensorboard_logs/concept:{concept}-neurons:{num_neurons}-layers:{num_layers}-dropout:{num_dropout}-{time.time()}'\n",
    "            tensorboard_callback = TensorBoard(log_dir=log_fullfile)\n",
    "\n",
    "            # Compile model\n",
    "            model.compile(\n",
    "                optimizer='adam',\n",
    "                loss=tf.keras.losses.SparseCategoricalCrossentropy(from_logits=True),\n",
    "                metrics=['accuracy']\n",
    "            )\n",
    "\n",
    "            # Train\n",
    "            model.fit(\n",
    "                x_train,\n",
    "                y_train,\n",
    "                epochs=10,\n",
    "                validation_data=(x_test, y_test),\n",
    "                callbacks=[tensorboard_callback]\n",
    "            )"
   ]
  },
  {
   "attachments": {},
   "cell_type": "markdown",
   "metadata": {},
   "source": [
    "# Best Conv Model\n",
    "\n",
    "### Stats\n",
    "- Loss: 0.02161\n",
    "- Acc: 99.42%\n",
    "\n",
    "### Model\n",
    "- Optimizer: Adam\n",
    "- Loss: SparseCategoricalCrossentropy\n",
    "- Augmentations:\n",
    "    - rotation_range: 10\n",
    "    - zoom_range: 0.1\n",
    "    - width_shift_range: 0.1\n",
    "    - height_shift_range: 0.1\n",
    "\n",
    "1. Conv2D:32:3x3:relu\n",
    "2. Max:2x2\n",
    "3. Dropout:0.2\n",
    "4. Conv2D:64:3x3:relu\n",
    "5. Max:2x2\n",
    "6. Dropout:0.2\n",
    "7. Flatten\n",
    "8. Dense:64:relu\n",
    "9. Dense:10"
   ]
  },
  {
   "cell_type": "code",
   "execution_count": 83,
   "metadata": {},
   "outputs": [],
   "source": [
    "# Since we're using convolutional layers now, we need to do an extra step of preprocessing\n",
    "# All we're doing here is adding a dimension at the lowest level to represent color channels\n",
    "# because that's what convolutional layers expect.\n",
    "# \n",
    "# Dimensions:\n",
    "#   1. Number of images\n",
    "#   2. Rows\n",
    "#   3. Columns\n",
    "#   4. Pixel channels to represent color\n",
    "conv_x_train = x_train.reshape(len(x_train), 28, 28, 1)\n",
    "conv_x_test = x_test.reshape(len(x_test), 28, 28, 1)"
   ]
  },
  {
   "cell_type": "code",
   "execution_count": 96,
   "metadata": {},
   "outputs": [
    {
     "name": "stdout",
     "output_type": "stream",
     "text": [
      "Epoch 1/10\n",
      "1875/1875 [==============================] - 53s 28ms/step - loss: 0.4055 - accuracy: 0.8711 - val_loss: 0.0587 - val_accuracy: 0.9807\n",
      "Epoch 2/10\n",
      "1875/1875 [==============================] - 51s 27ms/step - loss: 0.1764 - accuracy: 0.9466 - val_loss: 0.0445 - val_accuracy: 0.9865\n",
      "Epoch 3/10\n",
      "1875/1875 [==============================] - 48s 26ms/step - loss: 0.1401 - accuracy: 0.9565 - val_loss: 0.0392 - val_accuracy: 0.9869\n",
      "Epoch 4/10\n",
      "1875/1875 [==============================] - 51s 27ms/step - loss: 0.1206 - accuracy: 0.9637 - val_loss: 0.0287 - val_accuracy: 0.9906\n",
      "Epoch 5/10\n",
      "1875/1875 [==============================] - 52s 28ms/step - loss: 0.1139 - accuracy: 0.9653 - val_loss: 0.0310 - val_accuracy: 0.9901\n",
      "Epoch 6/10\n",
      "1875/1875 [==============================] - 51s 27ms/step - loss: 0.1060 - accuracy: 0.9673 - val_loss: 0.0250 - val_accuracy: 0.9914\n",
      "Epoch 7/10\n",
      "1875/1875 [==============================] - 50s 27ms/step - loss: 0.0928 - accuracy: 0.9707 - val_loss: 0.0250 - val_accuracy: 0.9917\n",
      "Epoch 8/10\n",
      "1875/1875 [==============================] - 55s 29ms/step - loss: 0.0946 - accuracy: 0.9717 - val_loss: 0.0251 - val_accuracy: 0.9920\n",
      "Epoch 9/10\n",
      "1875/1875 [==============================] - 53s 28ms/step - loss: 0.0903 - accuracy: 0.9730 - val_loss: 0.0236 - val_accuracy: 0.9922\n",
      "Epoch 10/10\n",
      "1875/1875 [==============================] - 52s 28ms/step - loss: 0.0854 - accuracy: 0.9739 - val_loss: 0.0320 - val_accuracy: 0.9903\n"
     ]
    },
    {
     "data": {
      "text/plain": [
       "<keras.callbacks.History at 0x16f93cb80>"
      ]
     },
     "execution_count": 96,
     "metadata": {},
     "output_type": "execute_result"
    }
   ],
   "source": [
    "concept = 'conv_with_aug'\n",
    "\n",
    "# Tensorboard\n",
    "log_fullfile = f'./tensorboard_logs/concept:{concept}'\n",
    "log_fullfile += '-Conv:32:3x3'\n",
    "log_fullfile += '-Max:2x2'\n",
    "log_fullfile += '-Dropout:0.25'\n",
    "log_fullfile += '-Conv:64:3x3'\n",
    "log_fullfile += '-Max:2x2'\n",
    "log_fullfile += '-Dropout:0.25'\n",
    "log_fullfile += '-Flatten'\n",
    "log_fullfile += '-Dense:64'\n",
    "log_fullfile += '-Dense:10'\n",
    "log_fullfile += f'-{time.time()}'\n",
    "tensorboard_callback = TensorBoard(log_dir=log_fullfile)\n",
    "\n",
    "datagen = tf.keras.preprocessing.image.ImageDataGenerator(\n",
    "    rotation_range=10,\n",
    "    zoom_range=0.12,\n",
    "    width_shift_range=0.12,\n",
    "    height_shift_range=0.12\n",
    ")\n",
    "\n",
    "datagen.fit(conv_x_train)\n",
    "\n",
    "model = tf.keras.models.Sequential([\n",
    "    tf.keras.layers.Conv2D(32, (3, 3), activation='relu', input_shape=(28, 28, 1)),\n",
    "    tf.keras.layers.MaxPool2D((2, 2)),\n",
    "    tf.keras.layers.Dropout(0.25),\n",
    "    tf.keras.layers.Conv2D(64, (3, 3), activation='relu'),\n",
    "    tf.keras.layers.MaxPool2D((2, 2)),\n",
    "    tf.keras.layers.Dropout(0.25),\n",
    "    tf.keras.layers.Flatten(),\n",
    "    tf.keras.layers.Dense(64),\n",
    "    tf.keras.layers.Dense(10)\n",
    "])\n",
    "\n",
    "model.compile(\n",
    "    optimizer='adam',\n",
    "    loss=tf.keras.losses.SparseCategoricalCrossentropy(from_logits=True),\n",
    "    metrics=['accuracy']\n",
    ")\n",
    "\n",
    "model.fit(\n",
    "    datagen.flow(\n",
    "        conv_x_train,\n",
    "        y_train,\n",
    "        batch_size=32  \n",
    "    ),\n",
    "    epochs=10,\n",
    "    validation_data=(conv_x_test, y_test),\n",
    "    callbacks=[tensorboard_callback]\n",
    ")"
   ]
  },
  {
   "cell_type": "code",
   "execution_count": null,
   "metadata": {},
   "outputs": [],
   "source": []
  },
  {
   "cell_type": "code",
   "execution_count": null,
   "metadata": {},
   "outputs": [],
   "source": []
  },
  {
   "cell_type": "code",
   "execution_count": null,
   "metadata": {},
   "outputs": [],
   "source": []
  },
  {
   "cell_type": "code",
   "execution_count": null,
   "metadata": {},
   "outputs": [],
   "source": []
  },
  {
   "cell_type": "code",
   "execution_count": null,
   "metadata": {},
   "outputs": [],
   "source": []
  },
  {
   "cell_type": "code",
   "execution_count": null,
   "metadata": {},
   "outputs": [],
   "source": []
  },
  {
   "cell_type": "code",
   "execution_count": null,
   "metadata": {},
   "outputs": [],
   "source": []
  },
  {
   "cell_type": "code",
   "execution_count": null,
   "metadata": {},
   "outputs": [],
   "source": []
  },
  {
   "cell_type": "code",
   "execution_count": null,
   "metadata": {},
   "outputs": [],
   "source": []
  },
  {
   "cell_type": "code",
   "execution_count": null,
   "metadata": {},
   "outputs": [],
   "source": []
  },
  {
   "cell_type": "code",
   "execution_count": null,
   "metadata": {},
   "outputs": [],
   "source": []
  },
  {
   "cell_type": "code",
   "execution_count": null,
   "metadata": {},
   "outputs": [],
   "source": []
  }
 ],
 "metadata": {
  "kernelspec": {
   "display_name": "Python 3",
   "language": "python",
   "name": "python3"
  },
  "language_info": {
   "codemirror_mode": {
    "name": "ipython",
    "version": 3
   },
   "file_extension": ".py",
   "mimetype": "text/x-python",
   "name": "python",
   "nbconvert_exporter": "python",
   "pygments_lexer": "ipython3",
   "version": "3.9.16"
  },
  "orig_nbformat": 4
 },
 "nbformat": 4,
 "nbformat_minor": 2
}
